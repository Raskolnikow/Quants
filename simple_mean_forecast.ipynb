{
 "cells": [
  {
   "cell_type": "markdown",
   "metadata": {},
   "source": [
    "## Stats basics and the sample mean\n",
    "\n",
    "* Random Variable X"
   ]
  },
  {
   "cell_type": "code",
   "execution_count": null,
   "metadata": {
    "collapsed": true
   },
   "outputs": [],
   "source": [
    "import numpy as np\n",
    "import pandas as pd\n",
    "import matplotlib.pyplot as plt\n",
    "%matplotlib inline"
   ]
  },
  {
   "cell_type": "code",
   "execution_count": 1,
   "metadata": {
    "collapsed": true
   },
   "outputs": [],
   "source": [
    "X = [114,126,123,112,68,116,50,108,163,79,67,98,131,83,56,109,81,61,90,92]"
   ]
  },
  {
   "cell_type": "code",
   "execution_count": 2,
   "metadata": {
    "collapsed": false
   },
   "outputs": [
    {
     "name": "stdout",
     "output_type": "stream",
     "text": [
      "[114, 126, 123, 112, 68, 116, 50, 108, 163, 79, 67, 98, 131, 83, 56, 109, 81, 61, 90, 92]\n"
     ]
    }
   ],
   "source": [
    "print X"
   ]
  },
  {
   "cell_type": "code",
   "execution_count": 8,
   "metadata": {
    "collapsed": false
   },
   "outputs": [
    {
     "data": {
      "text/plain": [
       "[<matplotlib.lines.Line2D at 0xa4687f0>]"
      ]
     },
     "execution_count": 8,
     "metadata": {},
     "output_type": "execute_result"
    },
    {
     "data": {
      "image/png": "[encoded data removed]",
      "text/plain": [
       "<matplotlib.figure.Figure at 0xa374940>"
      ]
     },
     "metadata": {},
     "output_type": "display_data"
    }
   ],
   "source": [
    "plt.plot(X)"
   ]
  },
  {
   "cell_type": "markdown",
   "metadata": {},
   "source": [
    "How should we forecast what will happen next? The simplest forecasting model that we might consider is the mean model, which assumes that the time series consists of independently and identically distributed (\"i.i.d\") values, as if each observation is randomly drawn from the same population.\n",
    "Under this assumption, the next value should be predicted to be equal to the historical sample mean if the goal is to minimize mean squared error."
   ]
  },
  {
   "cell_type": "markdown",
   "metadata": {},
   "source": [
    "X = a random variable, with its individual values denoted by $x_1, x_2$, etc.\n",
    "N = size of the entire popultion of values of X\n",
    "n = size of a finite sample of X"
   ]
  },
  {
   "cell_type": "markdown",
   "metadata": {},
   "source": [
    "In forcasting applications, we never observe the whole population. The problem is to forecast from a finite sample.\n",
    "The *sample mean* is the average of all the values in the sample:\n",
    "\n",
    "$$X=\\frac1N\\sum_I{x_i}$$\n",
    "\n",
    "This is the \"point forecast\" of the mean model for all future values of the same variable. The sample mean of the series X that was shown above is 96.35. So, *under the assumptions of the mean model, the point forecast for X for all future time periods should be 96.35*"
   ]
  },
  {
   "cell_type": "code",
   "execution_count": 11,
   "metadata": {
    "collapsed": false
   },
   "outputs": [
    {
     "data": {
      "text/plain": [
       "96.349999999999994"
      ]
     },
     "execution_count": 11,
     "metadata": {},
     "output_type": "execute_result"
    }
   ],
   "source": [
    "np.mean(X)"
   ]
  },
  {
   "cell_type": "markdown",
   "metadata": {},
   "source": [
    "The *sample variance $s^2$ is the average squared devieation from the smaple mean, except with a factor of n-1 rather then n in the denominator.\n",
    "\n",
    "$$s^2=\\frac1{n-1}\\sum_I{(x_i - X)^2}$$"
   ]
  },
  {
   "cell_type": "code",
   "execution_count": 12,
   "metadata": {
    "collapsed": false
   },
   "outputs": [
    {
     "data": {
      "text/plain": [
       "28.229904356904932"
      ]
     },
     "execution_count": 12,
     "metadata": {},
     "output_type": "execute_result"
    }
   ],
   "source": [
    "np.std(X)"
   ]
  },
  {
   "cell_type": "markdown",
   "metadata": {},
   "source": [
    "The correct adjustment to get an \"unbiased\" estimate of the true variance is to *devide the sum of squared deviations by the number of degrees of freedom, not the number of data points*."
   ]
  },
  {
   "cell_type": "markdown",
   "metadata": {},
   "source": [
    "The *standard error of the mean* is:\n",
    "\n",
    "$${SE}_{mean}=\\frac{s}{\\sqrt{n}}$$\n",
    "\n",
    "* This is the estimated standard deviation of the *error* that we would make in using the sample mean X as an estimate of the true mean µ, if we repeated this exercise with other independent samples of size n\n",
    "* It measures the *precision* of our estimate of the (unknown) true mean from a limited sample of data\n",
    "* As n gets larger, ${SE}_{mean}$ gets smaller and *the distribution of the error in estimating the mean approaches a normal distribution*.\n",
    "\n",
    "What's the difference btw. a standard *deviation* and *error* ?\n",
    "* The term \"standard deviation\" refers to the *actual* root-mean-squared (RMS) deviation of a population or a sample of data around its *mean*.\n",
    "* The term \"standard error\" refers to the *estimated* RMS deviation of the *error* in a parameter estimate of a forecast under repeated sampling.\n",
    "* Thus, a standard error is the \"standard deviation of the error\" in estimating or forecasting something"
   ]
  },
  {
   "cell_type": "code",
   "execution_count": 18,
   "metadata": {
    "collapsed": true
   },
   "outputs": [],
   "source": [
    "SE = np.std(X)/np.sqrt(20)"
   ]
  },
  {
   "cell_type": "code",
   "execution_count": 19,
   "metadata": {
    "collapsed": false
   },
   "outputs": [
    {
     "name": "stdout",
     "output_type": "stream",
     "text": [
      "6.31239851404\n"
     ]
    }
   ],
   "source": [
    "print SE"
   ]
  },
  {
   "cell_type": "markdown",
   "metadata": {},
   "source": [
    "The most commonly used forecasting models, such as regression models, focus on means as the key descriptive statistics, and point forecasts are usually expressed in terms of mean values rather median values, because this is the way to minimize mean squared error."
   ]
  },
  {
   "cell_type": "markdown",
   "metadata": {},
   "source": [
    "### Forecasting with the mean model\n",
    "\n",
    "**Variances of forecasting risk = variance of intrinsic risk + variance of parameter risk**\n"
   ]
  }
 ],
 "metadata": {
  "kernelspec": {
   "display_name": "Python 2",
   "language": "python",
   "name": "python2"
  },
  "language_info": {
   "codemirror_mode": {
    "name": "ipython",
    "version": 2
   },
   "file_extension": ".py",
   "mimetype": "text/x-python",
   "name": "python",
   "nbconvert_exporter": "python",
   "pygments_lexer": "ipython2",
   "version": "2.7.10"
  }
 },
 "nbformat": 4,
 "nbformat_minor": 0
}
