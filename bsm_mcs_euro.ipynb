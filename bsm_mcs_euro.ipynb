{
 "cells": [
  {
   "cell_type": "markdown",
   "metadata": {},
   "source": [
    "##Python for Finance"
   ]
  },
  {
   "cell_type": "markdown",
   "metadata": {},
   "source": [
    "Valuation of a European call option by Monte Carlo simulation. We will consider a Black-Scholes-Merton (BSM) setup in which the option's underlying risk factor follows a geometric Brownian motion.\n",
    "\n",
    "Suppose we have the following numerical parameter values for the valuation.\n",
    "\n",
    "    * Initial stock index level S_0 = 100\n",
    "    * Strike price of the European call option K = 105\n",
    "    * Time-to-maturity T = 1 year\n",
    "    * Constant, riskless short rate r = 5%\n",
    "    * Constant volatility v = 20%\n",
    "\n",
    "In the BSM model, the index level at maturity is a random variable with z being a standard normal distributed random variable.\n",
    "\n",
    "Equ 1: Black-Scholes-Merton (1973) index level at maturity\n",
    "\n",
    "## $$S_T = S_0*e^{(r-\\frac12\\sigma^2)*T + \\sigma\\sqrt{T}z}$$\n",
    "\n",
    "Equ 2: Monte Carlo estimator for European option\n",
    "## $$C_0\\approx e^{-r*T}\\sum_Ih_T(i)$$\n",
    "\n",
    "The following is an alogorithmic description of the Monte Carlo valuation process:\n",
    "\n",
    "    1. Draw N random numbers z(i), from the standard normal distribution\n",
    "    2. Calculate all resulting index levels at maturity S_t(i) for given z(i) and equ 1\n",
    "    3. Calculate all inner values of the option at maturity as h_t(i) = max(S_t(i) - K, 0)\n",
    "    4. Estimate the option present value via the Monte Carlo estimator given in equ 2\n",
    "   \n"
   ]
  },
  {
   "cell_type": "code",
   "execution_count": 19,
   "metadata": {
    "collapsed": true
   },
   "outputs": [],
   "source": [
    "import numpy as np\n",
    "import matplotlib.pyplot as plt\n",
    "%matplotlib inline"
   ]
  },
  {
   "cell_type": "code",
   "execution_count": 20,
   "metadata": {
    "collapsed": true
   },
   "outputs": [],
   "source": [
    "S0 = 100.\n",
    "K = 105.\n",
    "T = 1.0\n",
    "r = 0.05\n",
    "sigma = 0.2"
   ]
  },
  {
   "cell_type": "code",
   "execution_count": 21,
   "metadata": {
    "collapsed": true
   },
   "outputs": [],
   "source": [
    "N = 100000"
   ]
  },
  {
   "cell_type": "code",
   "execution_count": 22,
   "metadata": {
    "collapsed": false
   },
   "outputs": [],
   "source": [
    "z = np.random.standard_normal(N)\n",
    "S_t = S0 * np.exp((r - 0.5 * sigma**2) * T + sigma * np.sqrt(T) * z)\n",
    "h_t = np.maximum(S_t - K, 0)\n",
    "C_0 = np.exp(-r * T) * np.sum(h_t) / N"
   ]
  },
  {
   "cell_type": "code",
   "execution_count": 23,
   "metadata": {
    "collapsed": false
   },
   "outputs": [
    {
     "name": "stdout",
     "output_type": "stream",
     "text": [
      "Value of the European Call option 8.062\n"
     ]
    }
   ],
   "source": [
    "print \"Value of the European Call option %5.3f\" % C_0"
   ]
  },
  {
   "cell_type": "code",
   "execution_count": 30,
   "metadata": {
    "collapsed": false
   },
   "outputs": [
    {
     "data": {
      "image/png": "[encoded data removed]",
      "text/plain": [
       "<matplotlib.figure.Figure at 0xd27f128>"
      ]
     },
     "metadata": {},
     "output_type": "display_data"
    }
   ],
   "source": [
    "plt.hist(S_t, bins=100 )\n",
    "a = 0"
   ]
  }
 ],
 "metadata": {
  "kernelspec": {
   "display_name": "Python 2",
   "language": "python",
   "name": "python2"
  },
  "language_info": {
   "codemirror_mode": {
    "name": "ipython",
    "version": 2
   },
   "file_extension": ".py",
   "mimetype": "text/x-python",
   "name": "python",
   "nbconvert_exporter": "python",
   "pygments_lexer": "ipython2",
   "version": "2.7.10"
  }
 },
 "nbformat": 4,
 "nbformat_minor": 0
}
